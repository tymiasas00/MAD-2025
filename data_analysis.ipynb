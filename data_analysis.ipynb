{
 "cells": [
  {
   "cell_type": "markdown",
   "id": "af1e9845",
   "metadata": {},
   "source": [
    "# Przygotowanie danych"
   ]
  },
  {
   "cell_type": "code",
   "id": "23a75fdb",
   "metadata": {
    "ExecuteTime": {
     "end_time": "2025-04-07T20:43:25.814719Z",
     "start_time": "2025-04-07T20:43:20.438094Z"
    }
   },
   "source": [
    "import kagglehub\n",
    "import matplotlib.pyplot as plt\n",
    "import pandas as pd\n",
    "import numpy as np\n",
    "\n",
    "# Pobieram dane z Kaggle\n",
    "path = kagglehub.dataset_download(\n",
    "    \"andrezaza/clapper-massive-rotten-tomatoes-movies-and-reviews\")\n",
    "print(\"Ścieżka do plików zestawu danych:\", path)\n",
    "\n",
    "# Wczytanie danych\n",
    "movies = pd.read_csv(f'{path}/rotten_tomatoes_movies.csv')\n",
    "reviews = pd.read_csv(f'{path}/rotten_tomatoes_movie_reviews.csv')\n",
    "\n",
    "# Złączenie dwóch plików\n",
    "data = pd.merge(movies, reviews, on='id', how='inner')"
   ],
   "outputs": [
    {
     "name": "stdout",
     "output_type": "stream",
     "text": [
      "Ścieżka do plików zestawu danych: C:\\Users\\Szymon\\.cache\\kagglehub\\datasets\\andrezaza\\clapper-massive-rotten-tomatoes-movies-and-reviews\\versions\\4\n"
     ]
    }
   ],
   "execution_count": 16
  },
  {
   "cell_type": "markdown",
   "id": "c4c18719",
   "metadata": {},
   "source": [
    "# Podstawowe informacje o zbiorze danych"
   ]
  },
  {
   "cell_type": "code",
   "id": "1d7a58ea",
   "metadata": {
    "ExecuteTime": {
     "end_time": "2025-04-07T20:43:26.485042Z",
     "start_time": "2025-04-07T20:43:25.822144Z"
    }
   },
   "source": [
    "data.info()"
   ],
   "outputs": [
    {
     "name": "stdout",
     "output_type": "stream",
     "text": [
      "<class 'pandas.core.frame.DataFrame'>\n",
      "RangeIndex: 1469543 entries, 0 to 1469542\n",
      "Data columns (total 26 columns):\n",
      " #   Column                Non-Null Count    Dtype  \n",
      "---  ------                --------------    -----  \n",
      " 0   id                    1469543 non-null  object \n",
      " 1   title                 1464073 non-null  object \n",
      " 2   audienceScore         1399294 non-null  float64\n",
      " 3   tomatoMeter           1398270 non-null  float64\n",
      " 4   rating                889498 non-null   object \n",
      " 5   ratingContents        889498 non-null   object \n",
      " 6   releaseDateTheaters   1184070 non-null  object \n",
      " 7   releaseDateStreaming  1355722 non-null  object \n",
      " 8   runtimeMinutes        1440071 non-null  float64\n",
      " 9   genre                 1446093 non-null  object \n",
      " 10  originalLanguage      1439891 non-null  object \n",
      " 11  director              1460521 non-null  object \n",
      " 12  writer                1311318 non-null  object \n",
      " 13  boxOffice             1010267 non-null  object \n",
      " 14  distributor           1133821 non-null  object \n",
      " 15  soundMix              702960 non-null   object \n",
      " 16  reviewId              1469543 non-null  int64  \n",
      " 17  creationDate          1469543 non-null  object \n",
      " 18  criticName            1469543 non-null  object \n",
      " 19  isTopCritic           1469543 non-null  bool   \n",
      " 20  originalScore         1026708 non-null  object \n",
      " 21  reviewState           1469543 non-null  object \n",
      " 22  publicatioName        1469543 non-null  object \n",
      " 23  reviewText            1399259 non-null  object \n",
      " 24  scoreSentiment        1469543 non-null  object \n",
      " 25  reviewUrl             1255083 non-null  object \n",
      "dtypes: bool(1), float64(3), int64(1), object(21)\n",
      "memory usage: 281.7+ MB\n"
     ]
    }
   ],
   "execution_count": 17
  },
  {
   "cell_type": "code",
   "id": "5c76a1a0",
   "metadata": {
    "ExecuteTime": {
     "end_time": "2025-04-07T20:43:26.503472Z",
     "start_time": "2025-04-07T20:43:26.494946Z"
    }
   },
   "source": [
    "data.head()"
   ],
   "outputs": [
    {
     "data": {
      "text/plain": [
       "            id       title  audienceScore  tomatoMeter rating  \\\n",
       "0    love_lies  Love, Lies           43.0          NaN    NaN   \n",
       "1    love_lies  Love, Lies           43.0          NaN    NaN   \n",
       "2  adrift_2018      Adrift           65.0         69.0  PG-13   \n",
       "3  adrift_2018      Adrift           65.0         69.0  PG-13   \n",
       "4  adrift_2018      Adrift           65.0         69.0  PG-13   \n",
       "\n",
       "                                      ratingContents releaseDateTheaters  \\\n",
       "0                                                NaN                 NaN   \n",
       "1                                                NaN                 NaN   \n",
       "2  ['Injury Images', 'Brief Drug Use', 'Thematic ...          2018-06-01   \n",
       "3  ['Injury Images', 'Brief Drug Use', 'Thematic ...          2018-06-01   \n",
       "4  ['Injury Images', 'Brief Drug Use', 'Thematic ...          2018-06-01   \n",
       "\n",
       "  releaseDateStreaming  runtimeMinutes                      genre  ...  \\\n",
       "0                  NaN           120.0                      Drama  ...   \n",
       "1                  NaN           120.0                      Drama  ...   \n",
       "2           2018-08-21           120.0  Adventure, Drama, Romance  ...   \n",
       "3           2018-08-21           120.0  Adventure, Drama, Romance  ...   \n",
       "4           2018-08-21           120.0  Adventure, Drama, Romance  ...   \n",
       "\n",
       "    reviewId creationDate     criticName isTopCritic originalScore  \\\n",
       "0    2739073   2020-10-31    James Mudge       False           4/5   \n",
       "1    2333658   2016-06-15     Diva Velez       False         3.5/5   \n",
       "2  102694850   2022-05-29    Josh Parham       False          6/10   \n",
       "3  102654799   2022-02-11  Cory Woodroof       False           NaN   \n",
       "4    2816011   2021-08-21     Kip Mooney       False            C+   \n",
       "\n",
       "  reviewState        publicatioName  \\\n",
       "0       fresh      easternKicks.com   \n",
       "1       fresh     TheDivaReview.com   \n",
       "2       fresh     Next Best Picture   \n",
       "3       fresh              615 Film   \n",
       "4      rotten  College Movie Review   \n",
       "\n",
       "                                          reviewText scoreSentiment  \\\n",
       "0  Though let down by its routine love triangle n...       POSITIVE   \n",
       "1  While not perfect, Love, Lies is a worthy disc...       POSITIVE   \n",
       "2  This is nowhere near the level of other great ...       POSITIVE   \n",
       "3  Adrift somehow survives the late reveal, and t...       POSITIVE   \n",
       "4  For almost the entire runtime, the only people...       NEGATIVE   \n",
       "\n",
       "                                           reviewUrl  \n",
       "0     https://www.easternkicks.com/reviews/love-lies  \n",
       "1  http://thedivareview.com/Love_Lies_Movie_Revie...  \n",
       "2        https://www.nextbestpicture.com/adrift.html  \n",
       "3  https://615film.wordpress.com/2018/06/07/the-p...  \n",
       "4  https://collegemoviereview.com/featured/review...  \n",
       "\n",
       "[5 rows x 26 columns]"
      ],
      "text/html": [
       "<div>\n",
       "<style scoped>\n",
       "    .dataframe tbody tr th:only-of-type {\n",
       "        vertical-align: middle;\n",
       "    }\n",
       "\n",
       "    .dataframe tbody tr th {\n",
       "        vertical-align: top;\n",
       "    }\n",
       "\n",
       "    .dataframe thead th {\n",
       "        text-align: right;\n",
       "    }\n",
       "</style>\n",
       "<table border=\"1\" class=\"dataframe\">\n",
       "  <thead>\n",
       "    <tr style=\"text-align: right;\">\n",
       "      <th></th>\n",
       "      <th>id</th>\n",
       "      <th>title</th>\n",
       "      <th>audienceScore</th>\n",
       "      <th>tomatoMeter</th>\n",
       "      <th>rating</th>\n",
       "      <th>ratingContents</th>\n",
       "      <th>releaseDateTheaters</th>\n",
       "      <th>releaseDateStreaming</th>\n",
       "      <th>runtimeMinutes</th>\n",
       "      <th>genre</th>\n",
       "      <th>...</th>\n",
       "      <th>reviewId</th>\n",
       "      <th>creationDate</th>\n",
       "      <th>criticName</th>\n",
       "      <th>isTopCritic</th>\n",
       "      <th>originalScore</th>\n",
       "      <th>reviewState</th>\n",
       "      <th>publicatioName</th>\n",
       "      <th>reviewText</th>\n",
       "      <th>scoreSentiment</th>\n",
       "      <th>reviewUrl</th>\n",
       "    </tr>\n",
       "  </thead>\n",
       "  <tbody>\n",
       "    <tr>\n",
       "      <th>0</th>\n",
       "      <td>love_lies</td>\n",
       "      <td>Love, Lies</td>\n",
       "      <td>43.0</td>\n",
       "      <td>NaN</td>\n",
       "      <td>NaN</td>\n",
       "      <td>NaN</td>\n",
       "      <td>NaN</td>\n",
       "      <td>NaN</td>\n",
       "      <td>120.0</td>\n",
       "      <td>Drama</td>\n",
       "      <td>...</td>\n",
       "      <td>2739073</td>\n",
       "      <td>2020-10-31</td>\n",
       "      <td>James Mudge</td>\n",
       "      <td>False</td>\n",
       "      <td>4/5</td>\n",
       "      <td>fresh</td>\n",
       "      <td>easternKicks.com</td>\n",
       "      <td>Though let down by its routine love triangle n...</td>\n",
       "      <td>POSITIVE</td>\n",
       "      <td>https://www.easternkicks.com/reviews/love-lies</td>\n",
       "    </tr>\n",
       "    <tr>\n",
       "      <th>1</th>\n",
       "      <td>love_lies</td>\n",
       "      <td>Love, Lies</td>\n",
       "      <td>43.0</td>\n",
       "      <td>NaN</td>\n",
       "      <td>NaN</td>\n",
       "      <td>NaN</td>\n",
       "      <td>NaN</td>\n",
       "      <td>NaN</td>\n",
       "      <td>120.0</td>\n",
       "      <td>Drama</td>\n",
       "      <td>...</td>\n",
       "      <td>2333658</td>\n",
       "      <td>2016-06-15</td>\n",
       "      <td>Diva Velez</td>\n",
       "      <td>False</td>\n",
       "      <td>3.5/5</td>\n",
       "      <td>fresh</td>\n",
       "      <td>TheDivaReview.com</td>\n",
       "      <td>While not perfect, Love, Lies is a worthy disc...</td>\n",
       "      <td>POSITIVE</td>\n",
       "      <td>http://thedivareview.com/Love_Lies_Movie_Revie...</td>\n",
       "    </tr>\n",
       "    <tr>\n",
       "      <th>2</th>\n",
       "      <td>adrift_2018</td>\n",
       "      <td>Adrift</td>\n",
       "      <td>65.0</td>\n",
       "      <td>69.0</td>\n",
       "      <td>PG-13</td>\n",
       "      <td>['Injury Images', 'Brief Drug Use', 'Thematic ...</td>\n",
       "      <td>2018-06-01</td>\n",
       "      <td>2018-08-21</td>\n",
       "      <td>120.0</td>\n",
       "      <td>Adventure, Drama, Romance</td>\n",
       "      <td>...</td>\n",
       "      <td>102694850</td>\n",
       "      <td>2022-05-29</td>\n",
       "      <td>Josh Parham</td>\n",
       "      <td>False</td>\n",
       "      <td>6/10</td>\n",
       "      <td>fresh</td>\n",
       "      <td>Next Best Picture</td>\n",
       "      <td>This is nowhere near the level of other great ...</td>\n",
       "      <td>POSITIVE</td>\n",
       "      <td>https://www.nextbestpicture.com/adrift.html</td>\n",
       "    </tr>\n",
       "    <tr>\n",
       "      <th>3</th>\n",
       "      <td>adrift_2018</td>\n",
       "      <td>Adrift</td>\n",
       "      <td>65.0</td>\n",
       "      <td>69.0</td>\n",
       "      <td>PG-13</td>\n",
       "      <td>['Injury Images', 'Brief Drug Use', 'Thematic ...</td>\n",
       "      <td>2018-06-01</td>\n",
       "      <td>2018-08-21</td>\n",
       "      <td>120.0</td>\n",
       "      <td>Adventure, Drama, Romance</td>\n",
       "      <td>...</td>\n",
       "      <td>102654799</td>\n",
       "      <td>2022-02-11</td>\n",
       "      <td>Cory Woodroof</td>\n",
       "      <td>False</td>\n",
       "      <td>NaN</td>\n",
       "      <td>fresh</td>\n",
       "      <td>615 Film</td>\n",
       "      <td>Adrift somehow survives the late reveal, and t...</td>\n",
       "      <td>POSITIVE</td>\n",
       "      <td>https://615film.wordpress.com/2018/06/07/the-p...</td>\n",
       "    </tr>\n",
       "    <tr>\n",
       "      <th>4</th>\n",
       "      <td>adrift_2018</td>\n",
       "      <td>Adrift</td>\n",
       "      <td>65.0</td>\n",
       "      <td>69.0</td>\n",
       "      <td>PG-13</td>\n",
       "      <td>['Injury Images', 'Brief Drug Use', 'Thematic ...</td>\n",
       "      <td>2018-06-01</td>\n",
       "      <td>2018-08-21</td>\n",
       "      <td>120.0</td>\n",
       "      <td>Adventure, Drama, Romance</td>\n",
       "      <td>...</td>\n",
       "      <td>2816011</td>\n",
       "      <td>2021-08-21</td>\n",
       "      <td>Kip Mooney</td>\n",
       "      <td>False</td>\n",
       "      <td>C+</td>\n",
       "      <td>rotten</td>\n",
       "      <td>College Movie Review</td>\n",
       "      <td>For almost the entire runtime, the only people...</td>\n",
       "      <td>NEGATIVE</td>\n",
       "      <td>https://collegemoviereview.com/featured/review...</td>\n",
       "    </tr>\n",
       "  </tbody>\n",
       "</table>\n",
       "<p>5 rows × 26 columns</p>\n",
       "</div>"
      ]
     },
     "execution_count": 18,
     "metadata": {},
     "output_type": "execute_result"
    }
   ],
   "execution_count": 18
  },
  {
   "cell_type": "markdown",
   "id": "83769e51",
   "metadata": {},
   "source": [
    "# Oczyszczenie zbioru z niepotrzebnych kolumn"
   ]
  },
  {
   "cell_type": "code",
   "id": "9d36e88e",
   "metadata": {
    "ExecuteTime": {
     "end_time": "2025-04-07T20:43:26.731091Z",
     "start_time": "2025-04-07T20:43:26.592851Z"
    }
   },
   "source": [
    "columns_to_drop = [\n",
    "    'rating', 'ratingContents',\n",
    "    'boxOffice', 'writer', 'distributor', 'soundMix', 'reviewState', 'reviewUrl'\n",
    "]\n",
    "data = data.drop(columns=columns_to_drop)"
   ],
   "outputs": [],
   "execution_count": 19
  },
  {
   "cell_type": "markdown",
   "id": "4ec465a4",
   "metadata": {},
   "source": [
    "# Wyświetlenie danych po usunięciu kolumn"
   ]
  },
  {
   "cell_type": "code",
   "id": "52d757b6",
   "metadata": {
    "ExecuteTime": {
     "end_time": "2025-04-07T20:43:27.205730Z",
     "start_time": "2025-04-07T20:43:26.747978Z"
    }
   },
   "source": [
    "data.info()"
   ],
   "outputs": [
    {
     "name": "stdout",
     "output_type": "stream",
     "text": [
      "<class 'pandas.core.frame.DataFrame'>\n",
      "RangeIndex: 1469543 entries, 0 to 1469542\n",
      "Data columns (total 18 columns):\n",
      " #   Column                Non-Null Count    Dtype  \n",
      "---  ------                --------------    -----  \n",
      " 0   id                    1469543 non-null  object \n",
      " 1   title                 1464073 non-null  object \n",
      " 2   audienceScore         1399294 non-null  float64\n",
      " 3   tomatoMeter           1398270 non-null  float64\n",
      " 4   releaseDateTheaters   1184070 non-null  object \n",
      " 5   releaseDateStreaming  1355722 non-null  object \n",
      " 6   runtimeMinutes        1440071 non-null  float64\n",
      " 7   genre                 1446093 non-null  object \n",
      " 8   originalLanguage      1439891 non-null  object \n",
      " 9   director              1460521 non-null  object \n",
      " 10  reviewId              1469543 non-null  int64  \n",
      " 11  creationDate          1469543 non-null  object \n",
      " 12  criticName            1469543 non-null  object \n",
      " 13  isTopCritic           1469543 non-null  bool   \n",
      " 14  originalScore         1026708 non-null  object \n",
      " 15  publicatioName        1469543 non-null  object \n",
      " 16  reviewText            1399259 non-null  object \n",
      " 17  scoreSentiment        1469543 non-null  object \n",
      "dtypes: bool(1), float64(3), int64(1), object(13)\n",
      "memory usage: 192.0+ MB\n"
     ]
    }
   ],
   "execution_count": 20
  },
  {
   "cell_type": "code",
   "id": "5758d6d6",
   "metadata": {
    "ExecuteTime": {
     "end_time": "2025-04-07T20:43:27.217970Z",
     "start_time": "2025-04-07T20:43:27.211203Z"
    }
   },
   "source": [
    "data.head()"
   ],
   "outputs": [
    {
     "data": {
      "text/plain": [
       "            id       title  audienceScore  tomatoMeter releaseDateTheaters  \\\n",
       "0    love_lies  Love, Lies           43.0          NaN                 NaN   \n",
       "1    love_lies  Love, Lies           43.0          NaN                 NaN   \n",
       "2  adrift_2018      Adrift           65.0         69.0          2018-06-01   \n",
       "3  adrift_2018      Adrift           65.0         69.0          2018-06-01   \n",
       "4  adrift_2018      Adrift           65.0         69.0          2018-06-01   \n",
       "\n",
       "  releaseDateStreaming  runtimeMinutes                      genre  \\\n",
       "0                  NaN           120.0                      Drama   \n",
       "1                  NaN           120.0                      Drama   \n",
       "2           2018-08-21           120.0  Adventure, Drama, Romance   \n",
       "3           2018-08-21           120.0  Adventure, Drama, Romance   \n",
       "4           2018-08-21           120.0  Adventure, Drama, Romance   \n",
       "\n",
       "  originalLanguage                       director   reviewId creationDate  \\\n",
       "0           Korean  Park Heung-Sik,Heung-Sik Park    2739073   2020-10-31   \n",
       "1           Korean  Park Heung-Sik,Heung-Sik Park    2333658   2016-06-15   \n",
       "2          English              Baltasar Kormákur  102694850   2022-05-29   \n",
       "3          English              Baltasar Kormákur  102654799   2022-02-11   \n",
       "4          English              Baltasar Kormákur    2816011   2021-08-21   \n",
       "\n",
       "      criticName  isTopCritic originalScore        publicatioName  \\\n",
       "0    James Mudge        False           4/5      easternKicks.com   \n",
       "1     Diva Velez        False         3.5/5     TheDivaReview.com   \n",
       "2    Josh Parham        False          6/10     Next Best Picture   \n",
       "3  Cory Woodroof        False           NaN              615 Film   \n",
       "4     Kip Mooney        False            C+  College Movie Review   \n",
       "\n",
       "                                          reviewText scoreSentiment  \n",
       "0  Though let down by its routine love triangle n...       POSITIVE  \n",
       "1  While not perfect, Love, Lies is a worthy disc...       POSITIVE  \n",
       "2  This is nowhere near the level of other great ...       POSITIVE  \n",
       "3  Adrift somehow survives the late reveal, and t...       POSITIVE  \n",
       "4  For almost the entire runtime, the only people...       NEGATIVE  "
      ],
      "text/html": [
       "<div>\n",
       "<style scoped>\n",
       "    .dataframe tbody tr th:only-of-type {\n",
       "        vertical-align: middle;\n",
       "    }\n",
       "\n",
       "    .dataframe tbody tr th {\n",
       "        vertical-align: top;\n",
       "    }\n",
       "\n",
       "    .dataframe thead th {\n",
       "        text-align: right;\n",
       "    }\n",
       "</style>\n",
       "<table border=\"1\" class=\"dataframe\">\n",
       "  <thead>\n",
       "    <tr style=\"text-align: right;\">\n",
       "      <th></th>\n",
       "      <th>id</th>\n",
       "      <th>title</th>\n",
       "      <th>audienceScore</th>\n",
       "      <th>tomatoMeter</th>\n",
       "      <th>releaseDateTheaters</th>\n",
       "      <th>releaseDateStreaming</th>\n",
       "      <th>runtimeMinutes</th>\n",
       "      <th>genre</th>\n",
       "      <th>originalLanguage</th>\n",
       "      <th>director</th>\n",
       "      <th>reviewId</th>\n",
       "      <th>creationDate</th>\n",
       "      <th>criticName</th>\n",
       "      <th>isTopCritic</th>\n",
       "      <th>originalScore</th>\n",
       "      <th>publicatioName</th>\n",
       "      <th>reviewText</th>\n",
       "      <th>scoreSentiment</th>\n",
       "    </tr>\n",
       "  </thead>\n",
       "  <tbody>\n",
       "    <tr>\n",
       "      <th>0</th>\n",
       "      <td>love_lies</td>\n",
       "      <td>Love, Lies</td>\n",
       "      <td>43.0</td>\n",
       "      <td>NaN</td>\n",
       "      <td>NaN</td>\n",
       "      <td>NaN</td>\n",
       "      <td>120.0</td>\n",
       "      <td>Drama</td>\n",
       "      <td>Korean</td>\n",
       "      <td>Park Heung-Sik,Heung-Sik Park</td>\n",
       "      <td>2739073</td>\n",
       "      <td>2020-10-31</td>\n",
       "      <td>James Mudge</td>\n",
       "      <td>False</td>\n",
       "      <td>4/5</td>\n",
       "      <td>easternKicks.com</td>\n",
       "      <td>Though let down by its routine love triangle n...</td>\n",
       "      <td>POSITIVE</td>\n",
       "    </tr>\n",
       "    <tr>\n",
       "      <th>1</th>\n",
       "      <td>love_lies</td>\n",
       "      <td>Love, Lies</td>\n",
       "      <td>43.0</td>\n",
       "      <td>NaN</td>\n",
       "      <td>NaN</td>\n",
       "      <td>NaN</td>\n",
       "      <td>120.0</td>\n",
       "      <td>Drama</td>\n",
       "      <td>Korean</td>\n",
       "      <td>Park Heung-Sik,Heung-Sik Park</td>\n",
       "      <td>2333658</td>\n",
       "      <td>2016-06-15</td>\n",
       "      <td>Diva Velez</td>\n",
       "      <td>False</td>\n",
       "      <td>3.5/5</td>\n",
       "      <td>TheDivaReview.com</td>\n",
       "      <td>While not perfect, Love, Lies is a worthy disc...</td>\n",
       "      <td>POSITIVE</td>\n",
       "    </tr>\n",
       "    <tr>\n",
       "      <th>2</th>\n",
       "      <td>adrift_2018</td>\n",
       "      <td>Adrift</td>\n",
       "      <td>65.0</td>\n",
       "      <td>69.0</td>\n",
       "      <td>2018-06-01</td>\n",
       "      <td>2018-08-21</td>\n",
       "      <td>120.0</td>\n",
       "      <td>Adventure, Drama, Romance</td>\n",
       "      <td>English</td>\n",
       "      <td>Baltasar Kormákur</td>\n",
       "      <td>102694850</td>\n",
       "      <td>2022-05-29</td>\n",
       "      <td>Josh Parham</td>\n",
       "      <td>False</td>\n",
       "      <td>6/10</td>\n",
       "      <td>Next Best Picture</td>\n",
       "      <td>This is nowhere near the level of other great ...</td>\n",
       "      <td>POSITIVE</td>\n",
       "    </tr>\n",
       "    <tr>\n",
       "      <th>3</th>\n",
       "      <td>adrift_2018</td>\n",
       "      <td>Adrift</td>\n",
       "      <td>65.0</td>\n",
       "      <td>69.0</td>\n",
       "      <td>2018-06-01</td>\n",
       "      <td>2018-08-21</td>\n",
       "      <td>120.0</td>\n",
       "      <td>Adventure, Drama, Romance</td>\n",
       "      <td>English</td>\n",
       "      <td>Baltasar Kormákur</td>\n",
       "      <td>102654799</td>\n",
       "      <td>2022-02-11</td>\n",
       "      <td>Cory Woodroof</td>\n",
       "      <td>False</td>\n",
       "      <td>NaN</td>\n",
       "      <td>615 Film</td>\n",
       "      <td>Adrift somehow survives the late reveal, and t...</td>\n",
       "      <td>POSITIVE</td>\n",
       "    </tr>\n",
       "    <tr>\n",
       "      <th>4</th>\n",
       "      <td>adrift_2018</td>\n",
       "      <td>Adrift</td>\n",
       "      <td>65.0</td>\n",
       "      <td>69.0</td>\n",
       "      <td>2018-06-01</td>\n",
       "      <td>2018-08-21</td>\n",
       "      <td>120.0</td>\n",
       "      <td>Adventure, Drama, Romance</td>\n",
       "      <td>English</td>\n",
       "      <td>Baltasar Kormákur</td>\n",
       "      <td>2816011</td>\n",
       "      <td>2021-08-21</td>\n",
       "      <td>Kip Mooney</td>\n",
       "      <td>False</td>\n",
       "      <td>C+</td>\n",
       "      <td>College Movie Review</td>\n",
       "      <td>For almost the entire runtime, the only people...</td>\n",
       "      <td>NEGATIVE</td>\n",
       "    </tr>\n",
       "  </tbody>\n",
       "</table>\n",
       "</div>"
      ]
     },
     "execution_count": 21,
     "metadata": {},
     "output_type": "execute_result"
    }
   ],
   "execution_count": 21
  },
  {
   "cell_type": "code",
   "id": "32dd6102",
   "metadata": {
    "ExecuteTime": {
     "end_time": "2025-04-07T20:43:27.247474Z",
     "start_time": "2025-04-07T20:43:27.244125Z"
    }
   },
   "source": [
    "data.columns"
   ],
   "outputs": [
    {
     "data": {
      "text/plain": [
       "Index(['id', 'title', 'audienceScore', 'tomatoMeter', 'releaseDateTheaters',\n",
       "       'releaseDateStreaming', 'runtimeMinutes', 'genre', 'originalLanguage',\n",
       "       'director', 'reviewId', 'creationDate', 'criticName', 'isTopCritic',\n",
       "       'originalScore', 'publicatioName', 'reviewText', 'scoreSentiment'],\n",
       "      dtype='object')"
      ]
     },
     "execution_count": 22,
     "metadata": {},
     "output_type": "execute_result"
    }
   ],
   "execution_count": 22
  },
  {
   "cell_type": "code",
   "id": "f8de7da3",
   "metadata": {
    "ExecuteTime": {
     "end_time": "2025-04-07T20:43:27.407433Z",
     "start_time": "2025-04-07T20:43:27.272343Z"
    }
   },
   "source": [
    "data.describe()"
   ],
   "outputs": [
    {
     "data": {
      "text/plain": [
       "       audienceScore   tomatoMeter  runtimeMinutes      reviewId\n",
       "count   1.399294e+06  1.398270e+06    1.440071e+06  1.469543e+06\n",
       "mean    6.525283e+01  6.692012e+01    1.071855e+02  9.074211e+06\n",
       "std     1.970059e+01  2.607975e+01    2.149446e+01  2.582261e+07\n",
       "min     0.000000e+00  0.000000e+00    2.000000e+00  1.000000e+00\n",
       "25%     5.100000e+01  4.800000e+01    9.300000e+01  1.609990e+06\n",
       "50%     6.800000e+01  7.400000e+01    1.040000e+02  2.200468e+06\n",
       "75%     8.200000e+01  8.900000e+01    1.180000e+02  2.587848e+06\n",
       "max     1.000000e+02  1.000000e+02    1.013000e+03  1.027962e+08"
      ],
      "text/html": [
       "<div>\n",
       "<style scoped>\n",
       "    .dataframe tbody tr th:only-of-type {\n",
       "        vertical-align: middle;\n",
       "    }\n",
       "\n",
       "    .dataframe tbody tr th {\n",
       "        vertical-align: top;\n",
       "    }\n",
       "\n",
       "    .dataframe thead th {\n",
       "        text-align: right;\n",
       "    }\n",
       "</style>\n",
       "<table border=\"1\" class=\"dataframe\">\n",
       "  <thead>\n",
       "    <tr style=\"text-align: right;\">\n",
       "      <th></th>\n",
       "      <th>audienceScore</th>\n",
       "      <th>tomatoMeter</th>\n",
       "      <th>runtimeMinutes</th>\n",
       "      <th>reviewId</th>\n",
       "    </tr>\n",
       "  </thead>\n",
       "  <tbody>\n",
       "    <tr>\n",
       "      <th>count</th>\n",
       "      <td>1.399294e+06</td>\n",
       "      <td>1.398270e+06</td>\n",
       "      <td>1.440071e+06</td>\n",
       "      <td>1.469543e+06</td>\n",
       "    </tr>\n",
       "    <tr>\n",
       "      <th>mean</th>\n",
       "      <td>6.525283e+01</td>\n",
       "      <td>6.692012e+01</td>\n",
       "      <td>1.071855e+02</td>\n",
       "      <td>9.074211e+06</td>\n",
       "    </tr>\n",
       "    <tr>\n",
       "      <th>std</th>\n",
       "      <td>1.970059e+01</td>\n",
       "      <td>2.607975e+01</td>\n",
       "      <td>2.149446e+01</td>\n",
       "      <td>2.582261e+07</td>\n",
       "    </tr>\n",
       "    <tr>\n",
       "      <th>min</th>\n",
       "      <td>0.000000e+00</td>\n",
       "      <td>0.000000e+00</td>\n",
       "      <td>2.000000e+00</td>\n",
       "      <td>1.000000e+00</td>\n",
       "    </tr>\n",
       "    <tr>\n",
       "      <th>25%</th>\n",
       "      <td>5.100000e+01</td>\n",
       "      <td>4.800000e+01</td>\n",
       "      <td>9.300000e+01</td>\n",
       "      <td>1.609990e+06</td>\n",
       "    </tr>\n",
       "    <tr>\n",
       "      <th>50%</th>\n",
       "      <td>6.800000e+01</td>\n",
       "      <td>7.400000e+01</td>\n",
       "      <td>1.040000e+02</td>\n",
       "      <td>2.200468e+06</td>\n",
       "    </tr>\n",
       "    <tr>\n",
       "      <th>75%</th>\n",
       "      <td>8.200000e+01</td>\n",
       "      <td>8.900000e+01</td>\n",
       "      <td>1.180000e+02</td>\n",
       "      <td>2.587848e+06</td>\n",
       "    </tr>\n",
       "    <tr>\n",
       "      <th>max</th>\n",
       "      <td>1.000000e+02</td>\n",
       "      <td>1.000000e+02</td>\n",
       "      <td>1.013000e+03</td>\n",
       "      <td>1.027962e+08</td>\n",
       "    </tr>\n",
       "  </tbody>\n",
       "</table>\n",
       "</div>"
      ]
     },
     "execution_count": 23,
     "metadata": {},
     "output_type": "execute_result"
    }
   ],
   "execution_count": 23
  },
  {
   "cell_type": "markdown",
   "id": "86ab20e0",
   "metadata": {},
   "source": [
    "***"
   ]
  },
  {
   "cell_type": "code",
   "id": "5164cf9f",
   "metadata": {
    "ExecuteTime": {
     "end_time": "2025-04-07T20:43:27.430602Z",
     "start_time": "2025-04-07T20:43:27.428434Z"
    }
   },
   "source": [
    "numeric_features = ['audienceScore', 'tomatoMeter',\n",
    "                    'runtimeMinutes',]"
   ],
   "outputs": [],
   "execution_count": 24
  },
  {
   "cell_type": "markdown",
   "id": "4a29887a",
   "metadata": {},
   "source": [
    "# Obliczenie podstawowych informacji na temat cech numerycznych"
   ]
  },
  {
   "cell_type": "code",
   "id": "0f84684a",
   "metadata": {
    "ExecuteTime": {
     "end_time": "2025-04-07T20:43:27.476454Z",
     "start_time": "2025-04-07T20:43:27.454838Z"
    }
   },
   "source": [
    "data[numeric_features].min()  # Minimum\n"
   ],
   "outputs": [
    {
     "data": {
      "text/plain": [
       "audienceScore     0.0\n",
       "tomatoMeter       0.0\n",
       "runtimeMinutes    2.0\n",
       "dtype: float64"
      ]
     },
     "execution_count": 25,
     "metadata": {},
     "output_type": "execute_result"
    }
   ],
   "execution_count": 25
  },
  {
   "cell_type": "code",
   "id": "e35db3c4",
   "metadata": {
    "ExecuteTime": {
     "end_time": "2025-04-07T20:43:27.525392Z",
     "start_time": "2025-04-07T20:43:27.504301Z"
    }
   },
   "source": [
    "data[numeric_features].max()"
   ],
   "outputs": [
    {
     "data": {
      "text/plain": [
       "audienceScore      100.0\n",
       "tomatoMeter        100.0\n",
       "runtimeMinutes    1013.0\n",
       "dtype: float64"
      ]
     },
     "execution_count": 26,
     "metadata": {},
     "output_type": "execute_result"
    }
   ],
   "execution_count": 26
  },
  {
   "cell_type": "code",
   "id": "33f15448",
   "metadata": {
    "ExecuteTime": {
     "end_time": "2025-04-07T20:43:27.574162Z",
     "start_time": "2025-04-07T20:43:27.549269Z"
    }
   },
   "source": [
    "data[numeric_features].mean()"
   ],
   "outputs": [
    {
     "data": {
      "text/plain": [
       "audienceScore      65.252827\n",
       "tomatoMeter        66.920124\n",
       "runtimeMinutes    107.185486\n",
       "dtype: float64"
      ]
     },
     "execution_count": 27,
     "metadata": {},
     "output_type": "execute_result"
    }
   ],
   "execution_count": 27
  },
  {
   "cell_type": "code",
   "id": "77661305",
   "metadata": {
    "ExecuteTime": {
     "end_time": "2025-04-07T20:43:27.651840Z",
     "start_time": "2025-04-07T20:43:27.611207Z"
    }
   },
   "source": [
    "data[numeric_features].median()"
   ],
   "outputs": [
    {
     "data": {
      "text/plain": [
       "audienceScore      68.0\n",
       "tomatoMeter        74.0\n",
       "runtimeMinutes    104.0\n",
       "dtype: float64"
      ]
     },
     "execution_count": 28,
     "metadata": {},
     "output_type": "execute_result"
    }
   ],
   "execution_count": 28
  },
  {
   "cell_type": "markdown",
   "id": "228a91d3",
   "metadata": {},
   "source": [
    "# Histogramy dla cech numerycznych"
   ]
  },
  {
   "cell_type": "code",
   "id": "7b257eb6",
   "metadata": {
    "ExecuteTime": {
     "end_time": "2025-04-07T20:43:27.954044Z",
     "start_time": "2025-04-07T20:43:27.673471Z"
    }
   },
   "source": [
    "# Histogramy dla cech numerycznych\n",
    "for column in numeric_features:\n",
    "    if column != 'runtimeMinutes':\n",
    "        plt.figure(figsize=(8, 6))\n",
    "\n",
    "        values = data[column].dropna()\n",
    "        counts, bins = np.histogram(values, bins=30)\n",
    "        percentages = (counts / counts.sum()) * 100\n",
    "\n",
    "        plt.bar(bins[:-1], percentages, width=(bins[1] - bins[0]), edgecolor='black', align='edge')\n",
    "        plt.title(f\"Histogram of {column}\", fontsize=16)\n",
    "        plt.xlabel(column, fontsize=14)\n",
    "        plt.ylabel('Procent', fontsize=14)\n",
    "        plt.tight_layout()\n",
    "        plt.show()\n",
    "\n",
    "plt.figure(figsize=(8, 6))\n",
    "\n",
    "info = data['runtimeMinutes']\n",
    "counts, bins, patches = plt.hist(info, bins=50, edgecolor='black')\n",
    "total = counts.sum()\n",
    "percentages = (counts / total) * 100\n",
    "\n",
    "plt.clf()  # czyścimy poprzedni wykres\n",
    "\n",
    "# Rysujemy wykres z procentami\n",
    "plt.bar(bins[:-1], percentages, width=(bins[1] - bins[0]), align='edge', edgecolor='black')\n",
    "plt.xlim(0, 220)  # <- przenieśliśmy tutaj!\n",
    "plt.title(\"Histogram of runtime\", fontsize=16)\n",
    "plt.xlabel(\"Runtime in minutes\", fontsize=14)\n",
    "plt.ylabel(\"Procent\", fontsize=14)\n",
    "plt.tight_layout()\n",
    "plt.show()"
   ],
   "outputs": [
    {
     "data": {
      "text/plain": [
       "<Figure size 800x600 with 1 Axes>"
      ],
      "image/png": "[encoded data removed]"
     },
     "metadata": {},
     "output_type": "display_data"
    },
    {
     "data": {
      "text/plain": [
       "<Figure size 800x600 with 1 Axes>"
      ],
      "image/png": "[encoded data removed]"
     },
     "metadata": {},
     "output_type": "display_data"
    },
    {
     "data": {
      "text/plain": [
       "<Figure size 800x600 with 1 Axes>"
      ],
      "image/png": "[encoded data removed]"
     },
     "metadata": {},
     "output_type": "display_data"
    }
   ],
   "execution_count": 29
  },
  {
   "cell_type": "markdown",
   "id": "b9054e29",
   "metadata": {},
   "source": [
    "# Wykres słupkowy dla najczęstszych gatunków"
   ]
  },
  {
   "cell_type": "code",
   "id": "1ebc6d49",
   "metadata": {
    "ExecuteTime": {
     "end_time": "2025-04-07T20:43:28.118170Z",
     "start_time": "2025-04-07T20:43:27.989642Z"
    }
   },
   "source": [
    "# Przeliczenie gatunków na procenty\n",
    "genre_counts = data['genre'].value_counts(normalize=True) * 100\n",
    "\n",
    "# Wykres słupkowy dla top 10\n",
    "plt.figure(figsize=(12, 8))\n",
    "genre_counts.head(10).plot(kind='bar', color='skyblue', edgecolor='black')\n",
    "\n",
    "plt.title(\"Most Common Genres (percentage)\", fontsize=16)\n",
    "plt.xlabel(\"Genre\", fontsize=14)\n",
    "plt.ylabel(\"Percentage of Movies\", fontsize=14)\n",
    "plt.xticks(rotation=45, ha='right')\n",
    "plt.tight_layout()\n",
    "plt.show()"
   ],
   "outputs": [
    {
     "data": {
      "text/plain": [
       "<Figure size 1200x800 with 1 Axes>"
      ],
      "image/png": "[encoded data removed]"
     },
     "metadata": {},
     "output_type": "display_data"
    }
   ],
   "execution_count": 30
  }
 ],
 "metadata": {
  "kernelspec": {
   "display_name": "Python 3",
   "language": "python",
   "name": "python3"
  },
  "language_info": {
   "codemirror_mode": {
    "name": "ipython",
    "version": 3
   },
   "file_extension": ".py",
   "mimetype": "text/x-python",
   "name": "python",
   "nbconvert_exporter": "python",
   "pygments_lexer": "ipython3",
   "version": "3.13.2"
  }
 },
 "nbformat": 4,
 "nbformat_minor": 5
}
