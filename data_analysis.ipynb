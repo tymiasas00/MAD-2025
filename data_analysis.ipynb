{
 "cells": [
  {
   "cell_type": "markdown",
   "id": "af1e9845",
   "metadata": {},
   "source": [
    "# Przygotowanie danych"
   ]
  },
  {
   "cell_type": "code",
   "execution_count": 36,
   "id": "23a75fdb",
   "metadata": {},
   "outputs": [
    {
     "name": "stdout",
     "output_type": "stream",
     "text": [
      "Warning: Looks like you're using an outdated `kagglehub` version (installed: 0.3.10), please consider upgrading to the latest version (0.3.11).\n",
      "Ścieżka do plików zestawu danych: C:\\Users\\tymek\\.cache\\kagglehub\\datasets\\andrezaza\\clapper-massive-rotten-tomatoes-movies-and-reviews\\versions\\4\n"
     ]
    }
   ],
   "source": [
    "import kagglehub\n",
    "import matplotlib.pyplot as plt\n",
    "import pandas as pd\n",
    "\n",
    "# Pobieram dane z Kaggle\n",
    "path = kagglehub.dataset_download(\n",
    "    \"andrezaza/clapper-massive-rotten-tomatoes-movies-and-reviews\")\n",
    "print(\"Ścieżka do plików zestawu danych:\", path)\n",
    "\n",
    "# Wczytanie danych\n",
    "movies = pd.read_csv(f'{path}/rotten_tomatoes_movies.csv')\n",
    "reviews = pd.read_csv(f'{path}/rotten_tomatoes_movie_reviews.csv')\n",
    "\n",
    "# Złączenie dwóch plików\n",
    "data = pd.merge(movies, reviews, on='id', how='inner')"
   ]
  },
  {
   "cell_type": "markdown",
   "id": "c4c18719",
   "metadata": {},
   "source": [
    "# Podstawowe informacje o zbiorze danych"
   ]
  },
  {
   "cell_type": "code",
   "execution_count": 37,
   "id": "1d7a58ea",
   "metadata": {},
   "outputs": [
    {
     "name": "stdout",
     "output_type": "stream",
     "text": [
      "<class 'pandas.core.frame.DataFrame'>\n",
      "RangeIndex: 1469543 entries, 0 to 1469542\n",
      "Data columns (total 26 columns):\n",
      " #   Column                Non-Null Count    Dtype  \n",
      "---  ------                --------------    -----  \n",
      " 0   id                    1469543 non-null  object \n",
      " 1   title                 1464073 non-null  object \n",
      " 2   audienceScore         1399294 non-null  float64\n",
      " 3   tomatoMeter           1398270 non-null  float64\n",
      " 4   rating                889498 non-null   object \n",
      " 5   ratingContents        889498 non-null   object \n",
      " 6   releaseDateTheaters   1184070 non-null  object \n",
      " 7   releaseDateStreaming  1355722 non-null  object \n",
      " 8   runtimeMinutes        1440071 non-null  float64\n",
      " 9   genre                 1446093 non-null  object \n",
      " 10  originalLanguage      1439891 non-null  object \n",
      " 11  director              1460521 non-null  object \n",
      " 12  writer                1311318 non-null  object \n",
      " 13  boxOffice             1010267 non-null  object \n",
      " 14  distributor           1133821 non-null  object \n",
      " 15  soundMix              702960 non-null   object \n",
      " 16  reviewId              1469543 non-null  int64  \n",
      " 17  creationDate          1469543 non-null  object \n",
      " 18  criticName            1469543 non-null  object \n",
      " 19  isTopCritic           1469543 non-null  bool   \n",
      " 20  originalScore         1026708 non-null  object \n",
      " 21  reviewState           1469543 non-null  object \n",
      " 22  publicatioName        1469543 non-null  object \n",
      " 23  reviewText            1399259 non-null  object \n",
      " 24  scoreSentiment        1469543 non-null  object \n",
      " 25  reviewUrl             1255083 non-null  object \n",
      "dtypes: bool(1), float64(3), int64(1), object(21)\n",
      "memory usage: 281.7+ MB\n"
     ]
    }
   ],
   "source": [
    "data.info()"
   ]
  },
  {
   "cell_type": "code",
   "execution_count": 38,
   "id": "5c76a1a0",
   "metadata": {},
   "outputs": [
    {
     "data": {
      "text/html": [
       "<div>\n",
       "<style scoped>\n",
       "    .dataframe tbody tr th:only-of-type {\n",
       "        vertical-align: middle;\n",
       "    }\n",
       "\n",
       "    .dataframe tbody tr th {\n",
       "        vertical-align: top;\n",
       "    }\n",
       "\n",
       "    .dataframe thead th {\n",
       "        text-align: right;\n",
       "    }\n",
       "</style>\n",
       "<table border=\"1\" class=\"dataframe\">\n",
       "  <thead>\n",
       "    <tr style=\"text-align: right;\">\n",
       "      <th></th>\n",
       "      <th>id</th>\n",
       "      <th>title</th>\n",
       "      <th>audienceScore</th>\n",
       "      <th>tomatoMeter</th>\n",
       "      <th>rating</th>\n",
       "      <th>ratingContents</th>\n",
       "      <th>releaseDateTheaters</th>\n",
       "      <th>releaseDateStreaming</th>\n",
       "      <th>runtimeMinutes</th>\n",
       "      <th>genre</th>\n",
       "      <th>...</th>\n",
       "      <th>reviewId</th>\n",
       "      <th>creationDate</th>\n",
       "      <th>criticName</th>\n",
       "      <th>isTopCritic</th>\n",
       "      <th>originalScore</th>\n",
       "      <th>reviewState</th>\n",
       "      <th>publicatioName</th>\n",
       "      <th>reviewText</th>\n",
       "      <th>scoreSentiment</th>\n",
       "      <th>reviewUrl</th>\n",
       "    </tr>\n",
       "  </thead>\n",
       "  <tbody>\n",
       "    <tr>\n",
       "      <th>0</th>\n",
       "      <td>love_lies</td>\n",
       "      <td>Love, Lies</td>\n",
       "      <td>43.0</td>\n",
       "      <td>NaN</td>\n",
       "      <td>NaN</td>\n",
       "      <td>NaN</td>\n",
       "      <td>NaN</td>\n",
       "      <td>NaN</td>\n",
       "      <td>120.0</td>\n",
       "      <td>Drama</td>\n",
       "      <td>...</td>\n",
       "      <td>2739073</td>\n",
       "      <td>2020-10-31</td>\n",
       "      <td>James Mudge</td>\n",
       "      <td>False</td>\n",
       "      <td>4/5</td>\n",
       "      <td>fresh</td>\n",
       "      <td>easternKicks.com</td>\n",
       "      <td>Though let down by its routine love triangle n...</td>\n",
       "      <td>POSITIVE</td>\n",
       "      <td>https://www.easternkicks.com/reviews/love-lies</td>\n",
       "    </tr>\n",
       "    <tr>\n",
       "      <th>1</th>\n",
       "      <td>love_lies</td>\n",
       "      <td>Love, Lies</td>\n",
       "      <td>43.0</td>\n",
       "      <td>NaN</td>\n",
       "      <td>NaN</td>\n",
       "      <td>NaN</td>\n",
       "      <td>NaN</td>\n",
       "      <td>NaN</td>\n",
       "      <td>120.0</td>\n",
       "      <td>Drama</td>\n",
       "      <td>...</td>\n",
       "      <td>2333658</td>\n",
       "      <td>2016-06-15</td>\n",
       "      <td>Diva Velez</td>\n",
       "      <td>False</td>\n",
       "      <td>3.5/5</td>\n",
       "      <td>fresh</td>\n",
       "      <td>TheDivaReview.com</td>\n",
       "      <td>While not perfect, Love, Lies is a worthy disc...</td>\n",
       "      <td>POSITIVE</td>\n",
       "      <td>http://thedivareview.com/Love_Lies_Movie_Revie...</td>\n",
       "    </tr>\n",
       "    <tr>\n",
       "      <th>2</th>\n",
       "      <td>adrift_2018</td>\n",
       "      <td>Adrift</td>\n",
       "      <td>65.0</td>\n",
       "      <td>69.0</td>\n",
       "      <td>PG-13</td>\n",
       "      <td>['Injury Images', 'Brief Drug Use', 'Thematic ...</td>\n",
       "      <td>2018-06-01</td>\n",
       "      <td>2018-08-21</td>\n",
       "      <td>120.0</td>\n",
       "      <td>Adventure, Drama, Romance</td>\n",
       "      <td>...</td>\n",
       "      <td>102694850</td>\n",
       "      <td>2022-05-29</td>\n",
       "      <td>Josh Parham</td>\n",
       "      <td>False</td>\n",
       "      <td>6/10</td>\n",
       "      <td>fresh</td>\n",
       "      <td>Next Best Picture</td>\n",
       "      <td>This is nowhere near the level of other great ...</td>\n",
       "      <td>POSITIVE</td>\n",
       "      <td>https://www.nextbestpicture.com/adrift.html</td>\n",
       "    </tr>\n",
       "    <tr>\n",
       "      <th>3</th>\n",
       "      <td>adrift_2018</td>\n",
       "      <td>Adrift</td>\n",
       "      <td>65.0</td>\n",
       "      <td>69.0</td>\n",
       "      <td>PG-13</td>\n",
       "      <td>['Injury Images', 'Brief Drug Use', 'Thematic ...</td>\n",
       "      <td>2018-06-01</td>\n",
       "      <td>2018-08-21</td>\n",
       "      <td>120.0</td>\n",
       "      <td>Adventure, Drama, Romance</td>\n",
       "      <td>...</td>\n",
       "      <td>102654799</td>\n",
       "      <td>2022-02-11</td>\n",
       "      <td>Cory Woodroof</td>\n",
       "      <td>False</td>\n",
       "      <td>NaN</td>\n",
       "      <td>fresh</td>\n",
       "      <td>615 Film</td>\n",
       "      <td>Adrift somehow survives the late reveal, and t...</td>\n",
       "      <td>POSITIVE</td>\n",
       "      <td>https://615film.wordpress.com/2018/06/07/the-p...</td>\n",
       "    </tr>\n",
       "    <tr>\n",
       "      <th>4</th>\n",
       "      <td>adrift_2018</td>\n",
       "      <td>Adrift</td>\n",
       "      <td>65.0</td>\n",
       "      <td>69.0</td>\n",
       "      <td>PG-13</td>\n",
       "      <td>['Injury Images', 'Brief Drug Use', 'Thematic ...</td>\n",
       "      <td>2018-06-01</td>\n",
       "      <td>2018-08-21</td>\n",
       "      <td>120.0</td>\n",
       "      <td>Adventure, Drama, Romance</td>\n",
       "      <td>...</td>\n",
       "      <td>2816011</td>\n",
       "      <td>2021-08-21</td>\n",
       "      <td>Kip Mooney</td>\n",
       "      <td>False</td>\n",
       "      <td>C+</td>\n",
       "      <td>rotten</td>\n",
       "      <td>College Movie Review</td>\n",
       "      <td>For almost the entire runtime, the only people...</td>\n",
       "      <td>NEGATIVE</td>\n",
       "      <td>https://collegemoviereview.com/featured/review...</td>\n",
       "    </tr>\n",
       "  </tbody>\n",
       "</table>\n",
       "<p>5 rows × 26 columns</p>\n",
       "</div>"
      ],
      "text/plain": [
       "            id       title  audienceScore  tomatoMeter rating  \\\n",
       "0    love_lies  Love, Lies           43.0          NaN    NaN   \n",
       "1    love_lies  Love, Lies           43.0          NaN    NaN   \n",
       "2  adrift_2018      Adrift           65.0         69.0  PG-13   \n",
       "3  adrift_2018      Adrift           65.0         69.0  PG-13   \n",
       "4  adrift_2018      Adrift           65.0         69.0  PG-13   \n",
       "\n",
       "                                      ratingContents releaseDateTheaters  \\\n",
       "0                                                NaN                 NaN   \n",
       "1                                                NaN                 NaN   \n",
       "2  ['Injury Images', 'Brief Drug Use', 'Thematic ...          2018-06-01   \n",
       "3  ['Injury Images', 'Brief Drug Use', 'Thematic ...          2018-06-01   \n",
       "4  ['Injury Images', 'Brief Drug Use', 'Thematic ...          2018-06-01   \n",
       "\n",
       "  releaseDateStreaming  runtimeMinutes                      genre  ...  \\\n",
       "0                  NaN           120.0                      Drama  ...   \n",
       "1                  NaN           120.0                      Drama  ...   \n",
       "2           2018-08-21           120.0  Adventure, Drama, Romance  ...   \n",
       "3           2018-08-21           120.0  Adventure, Drama, Romance  ...   \n",
       "4           2018-08-21           120.0  Adventure, Drama, Romance  ...   \n",
       "\n",
       "    reviewId creationDate     criticName isTopCritic originalScore  \\\n",
       "0    2739073   2020-10-31    James Mudge       False           4/5   \n",
       "1    2333658   2016-06-15     Diva Velez       False         3.5/5   \n",
       "2  102694850   2022-05-29    Josh Parham       False          6/10   \n",
       "3  102654799   2022-02-11  Cory Woodroof       False           NaN   \n",
       "4    2816011   2021-08-21     Kip Mooney       False            C+   \n",
       "\n",
       "  reviewState        publicatioName  \\\n",
       "0       fresh      easternKicks.com   \n",
       "1       fresh     TheDivaReview.com   \n",
       "2       fresh     Next Best Picture   \n",
       "3       fresh              615 Film   \n",
       "4      rotten  College Movie Review   \n",
       "\n",
       "                                          reviewText scoreSentiment  \\\n",
       "0  Though let down by its routine love triangle n...       POSITIVE   \n",
       "1  While not perfect, Love, Lies is a worthy disc...       POSITIVE   \n",
       "2  This is nowhere near the level of other great ...       POSITIVE   \n",
       "3  Adrift somehow survives the late reveal, and t...       POSITIVE   \n",
       "4  For almost the entire runtime, the only people...       NEGATIVE   \n",
       "\n",
       "                                           reviewUrl  \n",
       "0     https://www.easternkicks.com/reviews/love-lies  \n",
       "1  http://thedivareview.com/Love_Lies_Movie_Revie...  \n",
       "2        https://www.nextbestpicture.com/adrift.html  \n",
       "3  https://615film.wordpress.com/2018/06/07/the-p...  \n",
       "4  https://collegemoviereview.com/featured/review...  \n",
       "\n",
       "[5 rows x 26 columns]"
      ]
     },
     "execution_count": 38,
     "metadata": {},
     "output_type": "execute_result"
    }
   ],
   "source": [
    "data.head()"
   ]
  },
  {
   "cell_type": "markdown",
   "id": "83769e51",
   "metadata": {},
   "source": [
    "# Oczyszczenie zbioru z niepotrzebnych kolumn"
   ]
  },
  {
   "cell_type": "code",
   "execution_count": 39,
   "id": "9d36e88e",
   "metadata": {},
   "outputs": [],
   "source": [
    "columns_to_drop = [\n",
    "    'rating', 'ratingContents',\n",
    "    'boxOffice', 'writer', 'distributor', 'soundMix', 'reviewState', 'reviewUrl'\n",
    "]\n",
    "data = data.drop(columns=columns_to_drop)"
   ]
  },
  {
   "cell_type": "markdown",
   "id": "4ec465a4",
   "metadata": {},
   "source": [
    "# Wyświetlenie danych po usunięciu kolumn"
   ]
  },
  {
   "cell_type": "code",
   "execution_count": 40,
   "id": "52d757b6",
   "metadata": {},
   "outputs": [
    {
     "name": "stdout",
     "output_type": "stream",
     "text": [
      "<class 'pandas.core.frame.DataFrame'>\n",
      "RangeIndex: 1469543 entries, 0 to 1469542\n",
      "Data columns (total 18 columns):\n",
      " #   Column                Non-Null Count    Dtype  \n",
      "---  ------                --------------    -----  \n",
      " 0   id                    1469543 non-null  object \n",
      " 1   title                 1464073 non-null  object \n",
      " 2   audienceScore         1399294 non-null  float64\n",
      " 3   tomatoMeter           1398270 non-null  float64\n",
      " 4   releaseDateTheaters   1184070 non-null  object \n",
      " 5   releaseDateStreaming  1355722 non-null  object \n",
      " 6   runtimeMinutes        1440071 non-null  float64\n",
      " 7   genre                 1446093 non-null  object \n",
      " 8   originalLanguage      1439891 non-null  object \n",
      " 9   director              1460521 non-null  object \n",
      " 10  reviewId              1469543 non-null  int64  \n",
      " 11  creationDate          1469543 non-null  object \n",
      " 12  criticName            1469543 non-null  object \n",
      " 13  isTopCritic           1469543 non-null  bool   \n",
      " 14  originalScore         1026708 non-null  object \n",
      " 15  publicatioName        1469543 non-null  object \n",
      " 16  reviewText            1399259 non-null  object \n",
      " 17  scoreSentiment        1469543 non-null  object \n",
      "dtypes: bool(1), float64(3), int64(1), object(13)\n",
      "memory usage: 192.0+ MB\n"
     ]
    }
   ],
   "source": [
    "data.info()"
   ]
  },
  {
   "cell_type": "code",
   "execution_count": 41,
   "id": "5758d6d6",
   "metadata": {},
   "outputs": [
    {
     "data": {
      "text/html": [
       "<div>\n",
       "<style scoped>\n",
       "    .dataframe tbody tr th:only-of-type {\n",
       "        vertical-align: middle;\n",
       "    }\n",
       "\n",
       "    .dataframe tbody tr th {\n",
       "        vertical-align: top;\n",
       "    }\n",
       "\n",
       "    .dataframe thead th {\n",
       "        text-align: right;\n",
       "    }\n",
       "</style>\n",
       "<table border=\"1\" class=\"dataframe\">\n",
       "  <thead>\n",
       "    <tr style=\"text-align: right;\">\n",
       "      <th></th>\n",
       "      <th>id</th>\n",
       "      <th>title</th>\n",
       "      <th>audienceScore</th>\n",
       "      <th>tomatoMeter</th>\n",
       "      <th>releaseDateTheaters</th>\n",
       "      <th>releaseDateStreaming</th>\n",
       "      <th>runtimeMinutes</th>\n",
       "      <th>genre</th>\n",
       "      <th>originalLanguage</th>\n",
       "      <th>director</th>\n",
       "      <th>reviewId</th>\n",
       "      <th>creationDate</th>\n",
       "      <th>criticName</th>\n",
       "      <th>isTopCritic</th>\n",
       "      <th>originalScore</th>\n",
       "      <th>publicatioName</th>\n",
       "      <th>reviewText</th>\n",
       "      <th>scoreSentiment</th>\n",
       "    </tr>\n",
       "  </thead>\n",
       "  <tbody>\n",
       "    <tr>\n",
       "      <th>0</th>\n",
       "      <td>love_lies</td>\n",
       "      <td>Love, Lies</td>\n",
       "      <td>43.0</td>\n",
       "      <td>NaN</td>\n",
       "      <td>NaN</td>\n",
       "      <td>NaN</td>\n",
       "      <td>120.0</td>\n",
       "      <td>Drama</td>\n",
       "      <td>Korean</td>\n",
       "      <td>Park Heung-Sik,Heung-Sik Park</td>\n",
       "      <td>2739073</td>\n",
       "      <td>2020-10-31</td>\n",
       "      <td>James Mudge</td>\n",
       "      <td>False</td>\n",
       "      <td>4/5</td>\n",
       "      <td>easternKicks.com</td>\n",
       "      <td>Though let down by its routine love triangle n...</td>\n",
       "      <td>POSITIVE</td>\n",
       "    </tr>\n",
       "    <tr>\n",
       "      <th>1</th>\n",
       "      <td>love_lies</td>\n",
       "      <td>Love, Lies</td>\n",
       "      <td>43.0</td>\n",
       "      <td>NaN</td>\n",
       "      <td>NaN</td>\n",
       "      <td>NaN</td>\n",
       "      <td>120.0</td>\n",
       "      <td>Drama</td>\n",
       "      <td>Korean</td>\n",
       "      <td>Park Heung-Sik,Heung-Sik Park</td>\n",
       "      <td>2333658</td>\n",
       "      <td>2016-06-15</td>\n",
       "      <td>Diva Velez</td>\n",
       "      <td>False</td>\n",
       "      <td>3.5/5</td>\n",
       "      <td>TheDivaReview.com</td>\n",
       "      <td>While not perfect, Love, Lies is a worthy disc...</td>\n",
       "      <td>POSITIVE</td>\n",
       "    </tr>\n",
       "    <tr>\n",
       "      <th>2</th>\n",
       "      <td>adrift_2018</td>\n",
       "      <td>Adrift</td>\n",
       "      <td>65.0</td>\n",
       "      <td>69.0</td>\n",
       "      <td>2018-06-01</td>\n",
       "      <td>2018-08-21</td>\n",
       "      <td>120.0</td>\n",
       "      <td>Adventure, Drama, Romance</td>\n",
       "      <td>English</td>\n",
       "      <td>Baltasar Kormákur</td>\n",
       "      <td>102694850</td>\n",
       "      <td>2022-05-29</td>\n",
       "      <td>Josh Parham</td>\n",
       "      <td>False</td>\n",
       "      <td>6/10</td>\n",
       "      <td>Next Best Picture</td>\n",
       "      <td>This is nowhere near the level of other great ...</td>\n",
       "      <td>POSITIVE</td>\n",
       "    </tr>\n",
       "    <tr>\n",
       "      <th>3</th>\n",
       "      <td>adrift_2018</td>\n",
       "      <td>Adrift</td>\n",
       "      <td>65.0</td>\n",
       "      <td>69.0</td>\n",
       "      <td>2018-06-01</td>\n",
       "      <td>2018-08-21</td>\n",
       "      <td>120.0</td>\n",
       "      <td>Adventure, Drama, Romance</td>\n",
       "      <td>English</td>\n",
       "      <td>Baltasar Kormákur</td>\n",
       "      <td>102654799</td>\n",
       "      <td>2022-02-11</td>\n",
       "      <td>Cory Woodroof</td>\n",
       "      <td>False</td>\n",
       "      <td>NaN</td>\n",
       "      <td>615 Film</td>\n",
       "      <td>Adrift somehow survives the late reveal, and t...</td>\n",
       "      <td>POSITIVE</td>\n",
       "    </tr>\n",
       "    <tr>\n",
       "      <th>4</th>\n",
       "      <td>adrift_2018</td>\n",
       "      <td>Adrift</td>\n",
       "      <td>65.0</td>\n",
       "      <td>69.0</td>\n",
       "      <td>2018-06-01</td>\n",
       "      <td>2018-08-21</td>\n",
       "      <td>120.0</td>\n",
       "      <td>Adventure, Drama, Romance</td>\n",
       "      <td>English</td>\n",
       "      <td>Baltasar Kormákur</td>\n",
       "      <td>2816011</td>\n",
       "      <td>2021-08-21</td>\n",
       "      <td>Kip Mooney</td>\n",
       "      <td>False</td>\n",
       "      <td>C+</td>\n",
       "      <td>College Movie Review</td>\n",
       "      <td>For almost the entire runtime, the only people...</td>\n",
       "      <td>NEGATIVE</td>\n",
       "    </tr>\n",
       "  </tbody>\n",
       "</table>\n",
       "</div>"
      ],
      "text/plain": [
       "            id       title  audienceScore  tomatoMeter releaseDateTheaters  \\\n",
       "0    love_lies  Love, Lies           43.0          NaN                 NaN   \n",
       "1    love_lies  Love, Lies           43.0          NaN                 NaN   \n",
       "2  adrift_2018      Adrift           65.0         69.0          2018-06-01   \n",
       "3  adrift_2018      Adrift           65.0         69.0          2018-06-01   \n",
       "4  adrift_2018      Adrift           65.0         69.0          2018-06-01   \n",
       "\n",
       "  releaseDateStreaming  runtimeMinutes                      genre  \\\n",
       "0                  NaN           120.0                      Drama   \n",
       "1                  NaN           120.0                      Drama   \n",
       "2           2018-08-21           120.0  Adventure, Drama, Romance   \n",
       "3           2018-08-21           120.0  Adventure, Drama, Romance   \n",
       "4           2018-08-21           120.0  Adventure, Drama, Romance   \n",
       "\n",
       "  originalLanguage                       director   reviewId creationDate  \\\n",
       "0           Korean  Park Heung-Sik,Heung-Sik Park    2739073   2020-10-31   \n",
       "1           Korean  Park Heung-Sik,Heung-Sik Park    2333658   2016-06-15   \n",
       "2          English              Baltasar Kormákur  102694850   2022-05-29   \n",
       "3          English              Baltasar Kormákur  102654799   2022-02-11   \n",
       "4          English              Baltasar Kormákur    2816011   2021-08-21   \n",
       "\n",
       "      criticName  isTopCritic originalScore        publicatioName  \\\n",
       "0    James Mudge        False           4/5      easternKicks.com   \n",
       "1     Diva Velez        False         3.5/5     TheDivaReview.com   \n",
       "2    Josh Parham        False          6/10     Next Best Picture   \n",
       "3  Cory Woodroof        False           NaN              615 Film   \n",
       "4     Kip Mooney        False            C+  College Movie Review   \n",
       "\n",
       "                                          reviewText scoreSentiment  \n",
       "0  Though let down by its routine love triangle n...       POSITIVE  \n",
       "1  While not perfect, Love, Lies is a worthy disc...       POSITIVE  \n",
       "2  This is nowhere near the level of other great ...       POSITIVE  \n",
       "3  Adrift somehow survives the late reveal, and t...       POSITIVE  \n",
       "4  For almost the entire runtime, the only people...       NEGATIVE  "
      ]
     },
     "execution_count": 41,
     "metadata": {},
     "output_type": "execute_result"
    }
   ],
   "source": [
    "data.head()"
   ]
  },
  {
   "cell_type": "code",
   "execution_count": 42,
   "id": "32dd6102",
   "metadata": {},
   "outputs": [
    {
     "data": {
      "text/plain": [
       "Index(['id', 'title', 'audienceScore', 'tomatoMeter', 'releaseDateTheaters',\n",
       "       'releaseDateStreaming', 'runtimeMinutes', 'genre', 'originalLanguage',\n",
       "       'director', 'reviewId', 'creationDate', 'criticName', 'isTopCritic',\n",
       "       'originalScore', 'publicatioName', 'reviewText', 'scoreSentiment'],\n",
       "      dtype='object')"
      ]
     },
     "execution_count": 42,
     "metadata": {},
     "output_type": "execute_result"
    }
   ],
   "source": [
    "data.columns"
   ]
  },
  {
   "cell_type": "code",
   "execution_count": 43,
   "id": "f8de7da3",
   "metadata": {},
   "outputs": [
    {
     "data": {
      "text/html": [
       "<div>\n",
       "<style scoped>\n",
       "    .dataframe tbody tr th:only-of-type {\n",
       "        vertical-align: middle;\n",
       "    }\n",
       "\n",
       "    .dataframe tbody tr th {\n",
       "        vertical-align: top;\n",
       "    }\n",
       "\n",
       "    .dataframe thead th {\n",
       "        text-align: right;\n",
       "    }\n",
       "</style>\n",
       "<table border=\"1\" class=\"dataframe\">\n",
       "  <thead>\n",
       "    <tr style=\"text-align: right;\">\n",
       "      <th></th>\n",
       "      <th>audienceScore</th>\n",
       "      <th>tomatoMeter</th>\n",
       "      <th>runtimeMinutes</th>\n",
       "      <th>reviewId</th>\n",
       "    </tr>\n",
       "  </thead>\n",
       "  <tbody>\n",
       "    <tr>\n",
       "      <th>count</th>\n",
       "      <td>1.399294e+06</td>\n",
       "      <td>1.398270e+06</td>\n",
       "      <td>1.440071e+06</td>\n",
       "      <td>1.469543e+06</td>\n",
       "    </tr>\n",
       "    <tr>\n",
       "      <th>mean</th>\n",
       "      <td>6.525283e+01</td>\n",
       "      <td>6.692012e+01</td>\n",
       "      <td>1.071855e+02</td>\n",
       "      <td>9.074211e+06</td>\n",
       "    </tr>\n",
       "    <tr>\n",
       "      <th>std</th>\n",
       "      <td>1.970059e+01</td>\n",
       "      <td>2.607975e+01</td>\n",
       "      <td>2.149446e+01</td>\n",
       "      <td>2.582261e+07</td>\n",
       "    </tr>\n",
       "    <tr>\n",
       "      <th>min</th>\n",
       "      <td>0.000000e+00</td>\n",
       "      <td>0.000000e+00</td>\n",
       "      <td>2.000000e+00</td>\n",
       "      <td>1.000000e+00</td>\n",
       "    </tr>\n",
       "    <tr>\n",
       "      <th>25%</th>\n",
       "      <td>5.100000e+01</td>\n",
       "      <td>4.800000e+01</td>\n",
       "      <td>9.300000e+01</td>\n",
       "      <td>1.609990e+06</td>\n",
       "    </tr>\n",
       "    <tr>\n",
       "      <th>50%</th>\n",
       "      <td>6.800000e+01</td>\n",
       "      <td>7.400000e+01</td>\n",
       "      <td>1.040000e+02</td>\n",
       "      <td>2.200468e+06</td>\n",
       "    </tr>\n",
       "    <tr>\n",
       "      <th>75%</th>\n",
       "      <td>8.200000e+01</td>\n",
       "      <td>8.900000e+01</td>\n",
       "      <td>1.180000e+02</td>\n",
       "      <td>2.587848e+06</td>\n",
       "    </tr>\n",
       "    <tr>\n",
       "      <th>max</th>\n",
       "      <td>1.000000e+02</td>\n",
       "      <td>1.000000e+02</td>\n",
       "      <td>1.013000e+03</td>\n",
       "      <td>1.027962e+08</td>\n",
       "    </tr>\n",
       "  </tbody>\n",
       "</table>\n",
       "</div>"
      ],
      "text/plain": [
       "       audienceScore   tomatoMeter  runtimeMinutes      reviewId\n",
       "count   1.399294e+06  1.398270e+06    1.440071e+06  1.469543e+06\n",
       "mean    6.525283e+01  6.692012e+01    1.071855e+02  9.074211e+06\n",
       "std     1.970059e+01  2.607975e+01    2.149446e+01  2.582261e+07\n",
       "min     0.000000e+00  0.000000e+00    2.000000e+00  1.000000e+00\n",
       "25%     5.100000e+01  4.800000e+01    9.300000e+01  1.609990e+06\n",
       "50%     6.800000e+01  7.400000e+01    1.040000e+02  2.200468e+06\n",
       "75%     8.200000e+01  8.900000e+01    1.180000e+02  2.587848e+06\n",
       "max     1.000000e+02  1.000000e+02    1.013000e+03  1.027962e+08"
      ]
     },
     "execution_count": 43,
     "metadata": {},
     "output_type": "execute_result"
    }
   ],
   "source": [
    "data.describe()"
   ]
  },
  {
   "cell_type": "markdown",
   "id": "86ab20e0",
   "metadata": {},
   "source": [
    "***"
   ]
  },
  {
   "cell_type": "code",
   "execution_count": 44,
   "id": "5164cf9f",
   "metadata": {},
   "outputs": [],
   "source": [
    "numeric_features = ['audienceScore', 'tomatoMeter',\n",
    "                    'runtimeMinutes',]"
   ]
  },
  {
   "cell_type": "markdown",
   "id": "4a29887a",
   "metadata": {},
   "source": [
    "# Obliczenie podstawowych informacji na temat cech numerycznych"
   ]
  },
  {
   "cell_type": "code",
   "execution_count": 45,
   "id": "0f84684a",
   "metadata": {},
   "outputs": [
    {
     "data": {
      "text/plain": [
       "audienceScore     0.0\n",
       "tomatoMeter       0.0\n",
       "runtimeMinutes    2.0\n",
       "dtype: float64"
      ]
     },
     "execution_count": 45,
     "metadata": {},
     "output_type": "execute_result"
    }
   ],
   "source": [
    "data[numeric_features].min()  # Minimum\n"
   ]
  },
  {
   "cell_type": "code",
   "execution_count": 46,
   "id": "e35db3c4",
   "metadata": {},
   "outputs": [
    {
     "data": {
      "text/plain": [
       "audienceScore      100.0\n",
       "tomatoMeter        100.0\n",
       "runtimeMinutes    1013.0\n",
       "dtype: float64"
      ]
     },
     "execution_count": 46,
     "metadata": {},
     "output_type": "execute_result"
    }
   ],
   "source": [
    "data[numeric_features].max()"
   ]
  },
  {
   "cell_type": "code",
   "execution_count": 47,
   "id": "33f15448",
   "metadata": {},
   "outputs": [
    {
     "data": {
      "text/plain": [
       "audienceScore      65.252827\n",
       "tomatoMeter        66.920124\n",
       "runtimeMinutes    107.185486\n",
       "dtype: float64"
      ]
     },
     "execution_count": 47,
     "metadata": {},
     "output_type": "execute_result"
    }
   ],
   "source": [
    "data[numeric_features].mean()"
   ]
  },
  {
   "cell_type": "code",
   "execution_count": 48,
   "id": "77661305",
   "metadata": {},
   "outputs": [
    {
     "data": {
      "text/plain": [
       "audienceScore      68.0\n",
       "tomatoMeter        74.0\n",
       "runtimeMinutes    104.0\n",
       "dtype: float64"
      ]
     },
     "execution_count": 48,
     "metadata": {},
     "output_type": "execute_result"
    }
   ],
   "source": [
    "data[numeric_features].median()"
   ]
  },
  {
   "cell_type": "markdown",
   "id": "228a91d3",
   "metadata": {},
   "source": [
    "# Histogramy dla cech numerycznych"
   ]
  },
  {
   "cell_type": "code",
   "execution_count": 49,
   "id": "7b257eb6",
   "metadata": {},
   "outputs": [
    {
     "data": {
      "image/png": "[encoded data removed]",
      "text/plain": [
       "<Figure size 800x600 with 1 Axes>"
      ]
     },
     "metadata": {},
     "output_type": "display_data"
    },
    {
     "data": {
      "image/png": "[encoded data removed]",
      "text/plain": [
       "<Figure size 800x600 with 1 Axes>"
      ]
     },
     "metadata": {},
     "output_type": "display_data"
    },
    {
     "data": {
      "image/png": "[encoded data removed]",
      "text/plain": [
       "<Figure size 800x600 with 1 Axes>"
      ]
     },
     "metadata": {},
     "output_type": "display_data"
    }
   ],
   "source": [
    "for column in numeric_features:\n",
    "    plt.figure(figsize=(8, 6))  # Size of each histogram plot\n",
    "    movies[column].hist(bins=30, edgecolor='black')  # Plot histogram\n",
    "    plt.title(f\"Histogram of {column}\", fontsize=16)\n",
    "    plt.xlabel(column, fontsize=14)\n",
    "    plt.ylabel('Frequency', fontsize=14)\n",
    "    plt.show()"
   ]
  },
  {
   "cell_type": "markdown",
   "id": "b9054e29",
   "metadata": {},
   "source": [
    "# Wykres słupkowy dla najczęstszych gatunków"
   ]
  },
  {
   "cell_type": "code",
   "execution_count": 50,
   "id": "1ebc6d49",
   "metadata": {},
   "outputs": [
    {
     "data": {
      "image/png": "[encoded data removed]",
      "text/plain": [
       "<Figure size 1200x800 with 1 Axes>"
      ]
     },
     "metadata": {},
     "output_type": "display_data"
    }
   ],
   "source": [
    "genre_counts = movies['genre'].value_counts()\n",
    "plt.figure(figsize=(12, 8))  # Size of the plot\n",
    "genre_counts.head(10).plot(kind='bar', color='skyblue',\n",
    "                           edgecolor='black')  # Top 10 genres\n",
    "plt.title(\"Most Common Genres\", fontsize=16)\n",
    "plt.xlabel(\"Genre\", fontsize=14)\n",
    "plt.ylabel(\"Number of Movies\", fontsize=14)\n",
    "plt.xticks(rotation=45, ha='right')  # Rotate genre names for readability\n",
    "plt.show()"
   ]
  }
 ],
 "metadata": {
  "kernelspec": {
   "display_name": "Python 3",
   "language": "python",
   "name": "python3"
  },
  "language_info": {
   "codemirror_mode": {
    "name": "ipython",
    "version": 3
   },
   "file_extension": ".py",
   "mimetype": "text/x-python",
   "name": "python",
   "nbconvert_exporter": "python",
   "pygments_lexer": "ipython3",
   "version": "3.13.2"
  }
 },
 "nbformat": 4,
 "nbformat_minor": 5
}
